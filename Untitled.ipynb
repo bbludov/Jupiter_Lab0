{
 "cells": [
  {
   "cell_type": "markdown",
   "id": "0c8241ba-e24b-4cc3-adcd-85a1fa25b784",
   "metadata": {},
   "source": [
    "# 🇮🇸 Ісландія  \n",
    "\n",
    "## Загальні відомості  \n",
    "**Столиця:** _Рейк'явік_  \n",
    "**Площа:** **103,000 км²**  \n",
    "**Населення:** <span style=\"color:blue\">~372,000 осіб</span>  \n",
    "**Державний устрій:** <span style=\"color:green\"><b>Парламентська республіка</b></span>  \n",
    "\n",
    "---\n",
    "\n",
    "## Видатні особистості  \n",
    "- **Халлдор Лакснесс** _(Нобелівський лауреат з літератури)_  \n",
    "- **Бьорк** _(відомa співачка)_  \n",
    "- **Сігурдсон Гудйонсен** _(легендарний футболіст)_  \n",
    "\n",
    "---\n",
    "\n",
    "## Пам'ятки культури та природи  \n",
    "1. **Природні об'єкти:**  \n",
    "   - <span style=\"color:red\">Гейзер Гейсір</span> – один з найвідоміших гейзерів світу  \n",
    "   - Водоспад **Гюдльфосс**  \n",
    "   - Національний парк **Тінгвеллір**  \n",
    "2. **Історичні місця:**  \n",
    "   - Собор **Гатльгрімскірк'я**  \n",
    "   - Вікінгське поселення в Рейк'явіку  \n",
    "\n",
    "---\n",
    "\n",
    "## Таблиця основних фактів  \n",
    "\n",
    "| Параметр        | Значення               |\n",
    "|----------------|------------------------|\n",
    "| Столиця       | Рейк'явік               |\n",
    "| Населення     | ~372,000 осіб           |\n",
    "| Площа         | 103,000 км²             |\n",
    "| Держ. устрій  | Парламентська республіка |\n",
    "| Мова          | Ісландська              |\n",
    "\n",
    "---\n",
    "\n",
    "## Державний прапор  \n",
    "\n",
    "![Прапор Ісландії](https://upload.wikimedia.org/wikipedia/commons/c/ce/Flag_of_Iceland.svg)\n",
    "\n",
    "### Альтернативне вбудовування з SVG  \n",
    "```html\n",
    "<svg width=\"200\" height=\"150\">\n",
    "  <rect width=\"200\" height=\"150\" fill=\"blue\"/>\n",
    "  <rect x=\"50\" width=\"30\" height=\"150\" fill=\"white\"/>\n",
    "  <rect y=\"60\" width=\"200\" height=\"30\" fill=\"white\"/>\n",
    "  <rect x=\"60\" width=\"20\" height=\"150\" fill=\"red\"/>\n",
    "  <rect y=\"70\" width=\"200\" height=\"20\" fill=\"red\"/>\n",
    "</svg>\n"
   ]
  },
  {
   "cell_type": "markdown",
   "id": "2a3871ea-138b-47a0-aa39-f0aae0dc4e95",
   "metadata": {},
   "source": [
    "N = ord(\"B\") % 10 + 1\n",
    "print(N)"
   ]
  },
  {
   "cell_type": "code",
   "execution_count": 6,
   "id": "7d6567db-c8a7-42e9-9f6a-431ae2cd8e9c",
   "metadata": {},
   "outputs": [
    {
     "name": "stdout",
     "output_type": "stream",
     "text": [
      "'32 у двійковій системі буде 0|100000'\n",
      "'-10.25 у двійковій системі буде -1010.01'\n"
     ]
    }
   ],
   "source": [
    "def int_to_binary(n):\n",
    "    \n",
    "    sign = '0' if n >= 0 else '1'\n",
    "    return f\"{sign}|{bin(abs(n))[2:]}\"  \n",
    "\n",
    "def float_to_binary(n):\n",
    "   \n",
    "    sign = '-' if n < 0 else ''\n",
    "    n = abs(n)\n",
    "    int_part = int(n)\n",
    "    frac_part = n - int_part\n",
    "\n",
    "    int_bin = bin(int_part)[2:]  \n",
    "    frac_bin = []\n",
    "\n",
    "    while frac_part > 0 and len(frac_bin) < 10: \n",
    "        frac_part *= 2\n",
    "        bit = int(frac_part)\n",
    "        frac_bin.append(str(bit))\n",
    "        frac_part -= bit\n",
    "\n",
    "    return f\"{sign}{int_bin}.\" + ''.join(frac_bin)\n",
    "\n",
    "def task_7(n):\n",
    "   \n",
    "    if isinstance(n, int):\n",
    "        return f\"'{n} у двійковій системі буде {int_to_binary(n)}'\"\n",
    "    elif isinstance(n, float):\n",
    "        return f\"'{n} у двійковій системі буде {float_to_binary(n)}'\"\n",
    "    else:\n",
    "        return \n",
    "\n",
    "\n",
    "print(task_7(32))      # '32 у двійковій системі буде 0|100000'\n",
    "print(task_7(-10.25))  # '-10.25 у двійковій системі буде 1010.01'\n"
   ]
  },
  {
   "cell_type": "code",
   "execution_count": null,
   "id": "b8482f94-c7e6-483d-80e7-a8444df8664d",
   "metadata": {},
   "outputs": [],
   "source": []
  },
  {
   "cell_type": "code",
   "execution_count": null,
   "id": "45507e38-b656-4f0b-9b90-559ebbccb30d",
   "metadata": {},
   "outputs": [],
   "source": []
  }
 ],
 "metadata": {
  "kernelspec": {
   "display_name": "Python 3 (ipykernel)",
   "language": "python",
   "name": "python3"
  },
  "language_info": {
   "codemirror_mode": {
    "name": "ipython",
    "version": 3
   },
   "file_extension": ".py",
   "mimetype": "text/x-python",
   "name": "python",
   "nbconvert_exporter": "python",
   "pygments_lexer": "ipython3",
   "version": "3.11.0"
  }
 },
 "nbformat": 4,
 "nbformat_minor": 5
}
