{
 "cells": [
  {
   "cell_type": "code",
   "execution_count": 1,
   "id": "eb9f75ad",
   "metadata": {},
   "outputs": [
    {
     "data": {
      "text/plain": [
       "1"
      ]
     },
     "execution_count": 1,
     "metadata": {},
     "output_type": "execute_result"
    }
   ],
   "source": [
    "N = ord(\"P\") % 10 + 1\n",
    "N"
   ]
  },
  {
   "cell_type": "code",
   "execution_count": 2,
   "id": "5fb6c20c",
   "metadata": {},
   "outputs": [
    {
     "data": {
      "text/markdown": [
       "\n",
       "# Греція\n",
       "\n",
       "## Загальні відомості\n",
       "\n",
       "**Площа**: *131,957 км²*  \n",
       "**Населення**: *приблизно 10,4 млн осіб (2023)*  \n",
       "**Державний устрій**: *парламентська республіка*  \n",
       "\n",
       "---\n",
       "\n",
       "## Видатні персоналії\n",
       "\n",
       "- **Сократ** (*469-399 до н.е.*) - філософ\n",
       "- **Аристотель** (*384-322 до н.е.*) - філософ\n",
       "- **Олександр Македонський** (*356-323 до н.е.*) - полководець\n",
       "- **Нікос Казандзакіс** (*1883-1957*) - письменник\n",
       "\n",
       "---\n",
       "\n",
       "## Пам'ятки культури та природи\n",
       "\n",
       "### Культурні пам'ятки\n",
       "\n",
       "1. **Парфенон** (Афіни)\n",
       "2. **Дельфи** – святилище Аполлона\n",
       "3. **Метеори** – монастирі на скелях\n",
       "\n",
       "### Природні пам'ятки\n",
       "\n",
       "- **Гора Олімп** – найвища точка Греції\n",
       "- **Печера Меліссані**\n",
       "- **Санторіні** – вулканічний острів\n",
       "\n",
       "---\n",
       "\n",
       "## Таблиця населення за містами\n",
       "\n",
       "| Місто        | Населення (2023) |\n",
       "|-------------|-----------------|\n",
       "| Афіни       | 3,1 млн         |\n",
       "| Салоніки    | 1,1 млн         |\n",
       "| Патри       | 215 тис.        |\n",
       "| Іракліон    | 174 тис.        |\n",
       "\n",
       "---\n",
       "\n",
       "## Грецький прапор\n",
       "\n",
       "<svg width=\"300\" height=\"200\">\n",
       "  <rect width=\"300\" height=\"22.22\" fill=\"#0D5EAF\"/>\n",
       "    <rect y=\"22.22\" width=\"300\" height=\"22.22\" fill=\"white\"/>\n",
       "    <rect y=\"44.44\" width=\"300\" height=\"22.22\" fill=\"#0D5EAF\"/>\n",
       "    <rect y=\"66.66\" width=\"300\" height=\"22.22\" fill=\"white\"/>\n",
       "    <rect y=\"88.88\" width=\"300\" height=\"22.22\" fill=\"#0D5EAF\"/>\n",
       "    <rect y=\"111.11\" width=\"300\" height=\"22.22\" fill=\"white\"/>\n",
       "    <rect y=\"133.33\" width=\"300\" height=\"22.22\" fill=\"#0D5EAF\"/>\n",
       "    <rect y=\"155.55\" width=\"300\" height=\"22.22\" fill=\"white\"/>\n",
       "    <rect y=\"177.77\" width=\"300\" height=\"22.22\" fill=\"#0D5EAF\"/>\n",
       "    <rect x=\"0\" y=\"0\" width=\"111.11\" height=\"111.11\" fill=\"#0D5EAF\"/>\n",
       "    <rect x=\"44.44\" y=\"0\" width=\"22.22\" height=\"111.11\" fill=\"white\"/>\n",
       "    <rect x=\"0\" y=\"44.44\" width=\"111.11\" height=\"22.22\" fill=\"white\"/>\n",
       "</svg>\n",
       "\n",
       "---\n",
       "\n",
       "## Зображення\n",
       "\n",
       "![Парфенон](https://upload.wikimedia.org/wikipedia/commons/thumb/d/da/The_Parthenon_in_Athens.jpg/300px-The_Parthenon_in_Athens.jpg)  \n",
       "\n",
       "## Гіперпосилання\n",
       "\n",
       "[Більше інформації](https://uk.wikipedia.org/wiki/%D0%93%D1%80%D0%B5%D1%86%D1%96%D1%8F)\n",
       "\n"
      ],
      "text/plain": [
       "<IPython.core.display.Markdown object>"
      ]
     },
     "metadata": {},
     "output_type": "display_data"
    }
   ],
   "source": [
    "from IPython.core.display import display, Markdown\n",
    "\n",
    "data = \"\"\"\n",
    "# Греція\n",
    "\n",
    "## Загальні відомості\n",
    "\n",
    "**Площа**: *131,957 км²*  \n",
    "**Населення**: *приблизно 10,4 млн осіб (2023)*  \n",
    "**Державний устрій**: *парламентська республіка*  \n",
    "\n",
    "---\n",
    "\n",
    "## Видатні персоналії\n",
    "\n",
    "- **Сократ** (*469-399 до н.е.*) - філософ\n",
    "- **Аристотель** (*384-322 до н.е.*) - філософ\n",
    "- **Олександр Македонський** (*356-323 до н.е.*) - полководець\n",
    "- **Нікос Казандзакіс** (*1883-1957*) - письменник\n",
    "\n",
    "---\n",
    "\n",
    "## Пам'ятки культури та природи\n",
    "\n",
    "### Культурні пам'ятки\n",
    "\n",
    "1. **Парфенон** (Афіни)\n",
    "2. **Дельфи** – святилище Аполлона\n",
    "3. **Метеори** – монастирі на скелях\n",
    "\n",
    "### Природні пам'ятки\n",
    "\n",
    "- **Гора Олімп** – найвища точка Греції\n",
    "- **Печера Меліссані**\n",
    "- **Санторіні** – вулканічний острів\n",
    "\n",
    "---\n",
    "\n",
    "## Таблиця населення за містами\n",
    "\n",
    "| Місто        | Населення (2023) |\n",
    "|-------------|-----------------|\n",
    "| Афіни       | 3,1 млн         |\n",
    "| Салоніки    | 1,1 млн         |\n",
    "| Патри       | 215 тис.        |\n",
    "| Іракліон    | 174 тис.        |\n",
    "\n",
    "---\n",
    "\n",
    "## Грецький прапор\n",
    "\n",
    "<svg width=\"300\" height=\"200\">\n",
    "  <rect width=\"300\" height=\"22.22\" fill=\"#0D5EAF\"/>\n",
    "    <rect y=\"22.22\" width=\"300\" height=\"22.22\" fill=\"white\"/>\n",
    "    <rect y=\"44.44\" width=\"300\" height=\"22.22\" fill=\"#0D5EAF\"/>\n",
    "    <rect y=\"66.66\" width=\"300\" height=\"22.22\" fill=\"white\"/>\n",
    "    <rect y=\"88.88\" width=\"300\" height=\"22.22\" fill=\"#0D5EAF\"/>\n",
    "    <rect y=\"111.11\" width=\"300\" height=\"22.22\" fill=\"white\"/>\n",
    "    <rect y=\"133.33\" width=\"300\" height=\"22.22\" fill=\"#0D5EAF\"/>\n",
    "    <rect y=\"155.55\" width=\"300\" height=\"22.22\" fill=\"white\"/>\n",
    "    <rect y=\"177.77\" width=\"300\" height=\"22.22\" fill=\"#0D5EAF\"/>\n",
    "    <rect x=\"0\" y=\"0\" width=\"111.11\" height=\"111.11\" fill=\"#0D5EAF\"/>\n",
    "    <rect x=\"44.44\" y=\"0\" width=\"22.22\" height=\"111.11\" fill=\"white\"/>\n",
    "    <rect x=\"0\" y=\"44.44\" width=\"111.11\" height=\"22.22\" fill=\"white\"/>\n",
    "</svg>\n",
    "\n",
    "---\n",
    "\n",
    "## Зображення\n",
    "\n",
    "![Парфенон](https://upload.wikimedia.org/wikipedia/commons/thumb/d/da/The_Parthenon_in_Athens.jpg/300px-The_Parthenon_in_Athens.jpg)  \n",
    "\n",
    "## Гіперпосилання\n",
    "\n",
    "[Більше інформації](https://uk.wikipedia.org/wiki/%D0%93%D1%80%D0%B5%D1%86%D1%96%D1%8F)\n",
    "\n",
    "\"\"\"\n",
    "display(Markdown(data))\n"
   ]
  },
  {
   "cell_type": "code",
   "execution_count": 3,
   "id": "abdfd636",
   "metadata": {},
   "outputs": [],
   "source": [
    "# Функція для перевірки простого числа\n",
    "def is_prime(n):\n",
    "    if n < 2:\n",
    "        return False\n",
    "    for i in range(2, int(n ** 0.5) + 1):\n",
    "        if n % i == 0:\n",
    "            return False\n",
    "    return True"
   ]
  },
  {
   "cell_type": "code",
   "execution_count": 4,
   "id": "20e675e1",
   "metadata": {},
   "outputs": [],
   "source": [
    "# Основна функція для гіпотези Гольдбаха\n",
    "def goldbach(n):\n",
    "    # Контроль вхідних даних\n",
    "    if not isinstance(n, int):\n",
    "        return \"Помилка: введіть ціле число\"\n",
    "    if n <= 2:\n",
    "        return \"Помилка: число має бути парним і більшим за 2\"\n",
    "    if n % 2 != 0:\n",
    "        return \"Помилка: число має бути парним\"\n",
    "    \n",
    "    # Пошук двох простих чисел\n",
    "    for i in range(2, n):\n",
    "        if is_prime(i):\n",
    "            j = n - i\n",
    "            if is_prime(j):\n",
    "                return f\"{n} = {i} + {j}\"\n",
    "    return \"Не знайдено відповідних простих чисел\""
   ]
  },
  {
   "cell_type": "code",
   "execution_count": 5,
   "id": "d76cd713",
   "metadata": {},
   "outputs": [
    {
     "data": {
      "text/plain": [
       "'Помилка: число має бути парним'"
      ]
     },
     "execution_count": 5,
     "metadata": {},
     "output_type": "execute_result"
    }
   ],
   "source": [
    "goldbach(5)"
   ]
  },
  {
   "cell_type": "code",
   "execution_count": 6,
   "id": "7f7f0303",
   "metadata": {},
   "outputs": [
    {
     "data": {
      "text/plain": [
       "'6 = 3 + 3'"
      ]
     },
     "execution_count": 6,
     "metadata": {},
     "output_type": "execute_result"
    }
   ],
   "source": [
    "goldbach(6)"
   ]
  },
  {
   "cell_type": "code",
   "execution_count": 7,
   "id": "36639dce",
   "metadata": {},
   "outputs": [
    {
     "data": {
      "text/plain": [
       "'28 = 5 + 23'"
      ]
     },
     "execution_count": 7,
     "metadata": {},
     "output_type": "execute_result"
    }
   ],
   "source": [
    "goldbach(28)"
   ]
  }
 ],
 "metadata": {
  "kernelspec": {
   "display_name": "Python 3 (ipykernel)",
   "language": "python",
   "name": "python3"
  },
  "language_info": {
   "codemirror_mode": {
    "name": "ipython",
    "version": 3
   },
   "file_extension": ".py",
   "mimetype": "text/x-python",
   "name": "python",
   "nbconvert_exporter": "python",
   "pygments_lexer": "ipython3",
   "version": "3.7.1"
  }
 },
 "nbformat": 4,
 "nbformat_minor": 5
}
